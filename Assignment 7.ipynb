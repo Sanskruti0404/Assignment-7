{
 "cells": [
  {
   "cell_type": "markdown",
   "id": "f35012cb-c9d5-482a-8398-ba274c4e31d2",
   "metadata": {},
   "source": [
    "## Assignment 7"
   ]
  },
  {
   "cell_type": "markdown",
   "id": "6d86183d-7fe3-4489-b80d-6b4cdd511915",
   "metadata": {},
   "source": [
    "## Q1\n",
    "Abstraction is a key concept in object-oriented programming (OOP) that allows us to hide complex implementation details and focus on essential features or behaviors of an object. It provides a simplified and generalized view of an object by defining its essential characteristics and hiding the unnecessary details."
   ]
  },
  {
   "cell_type": "code",
   "execution_count": 1,
   "id": "a913feb6-1abe-4639-8ae0-31626b22c2fc",
   "metadata": {},
   "outputs": [
    {
     "name": "stdout",
     "output_type": "stream",
     "text": [
      "Dog barks\n",
      "Cat meows\n"
     ]
    }
   ],
   "source": [
    "from abc import ABC, abstractmethod\n",
    "\n",
    "class Animal(ABC):\n",
    "    def __init__(self, name):\n",
    "        self.name = name\n",
    "\n",
    "    @abstractmethod\n",
    "    def speak(self):\n",
    "        pass\n",
    "\n",
    "class Dog(Animal):\n",
    "    def speak(self):\n",
    "        print(\"Dog barks\")\n",
    "\n",
    "class Cat(Animal):\n",
    "    def speak(self):\n",
    "        print(\"Cat meows\")\n",
    "\n",
    "dog = Dog(\"Buddy\")\n",
    "cat = Cat(\"Whiskers\")\n",
    "\n",
    "dog.speak()  \n",
    "cat.speak()  \n"
   ]
  },
  {
   "cell_type": "markdown",
   "id": "6aa9f755-8b78-4449-98ab-c58218fe42a2",
   "metadata": {},
   "source": [
    "## Q2\n",
    "Abstraction:\n",
    "\n",
    "Abstraction is the process of representing the essential features or behaviors of an object while hiding the unnecessary details. It allows us to focus on what an object does rather than how it does it. Abstraction is achieved through abstract classes and interfaces, defining a contract or blueprint for derived classes to follow. It helps in creating generalized and reusable code, promoting code modularity and maintainability. Abstraction is about providing a high-level view or interface to the users of a class or module."
   ]
  },
  {
   "cell_type": "code",
   "execution_count": 2,
   "id": "86137183-22b2-4960-968a-47c535413e21",
   "metadata": {},
   "outputs": [
    {
     "name": "stdout",
     "output_type": "stream",
     "text": [
      "20\n",
      "28.259999999999998\n"
     ]
    }
   ],
   "source": [
    "\n",
    "from abc import ABC, abstractmethod\n",
    "\n",
    "class Shape(ABC):\n",
    "    @abstractmethod\n",
    "    def area(self):\n",
    "        pass\n",
    "\n",
    "class Rectangle(Shape):\n",
    "    def __init__(self, length, width):\n",
    "        self.length = length\n",
    "        self.width = width\n",
    "\n",
    "    def area(self):\n",
    "        return self.length * self.width\n",
    "\n",
    "class Circle(Shape):\n",
    "    def __init__(self, radius):\n",
    "        self.radius = radius\n",
    "\n",
    "    def area(self):\n",
    "        return 3.14 * self.radius * self.radius\n",
    "\n",
    "rectangle = Rectangle(4, 5)\n",
    "circle = Circle(3)\n",
    "\n",
    "print(rectangle.area())  \n",
    "print(circle.area())     \n",
    "\n",
    "     "
   ]
  },
  {
   "cell_type": "markdown",
   "id": "83daba03-40d7-4dfd-aa7a-091f18ba7ec2",
   "metadata": {},
   "source": [
    "Encapsulation:\n",
    "\n",
    "Encapsulation is the process of bundling data (attributes) and methods (functions) that operate on that data together within a class. It involves hiding the internal state of an object and providing controlled access to the object's attributes through methods. Encapsulation helps in achieving data abstraction and data hiding, ensuring that the object's state is accessed and modified only through defined interfaces. It provides security, prevents direct access to internal data, and allows for better control and validation of data. Encapsulation is about packaging related data and methods together, forming a cohesive unit."
   ]
  },
  {
   "cell_type": "code",
   "execution_count": 3,
   "id": "cf135097-24a9-4e85-883e-56101330ea54",
   "metadata": {},
   "outputs": [
    {
     "name": "stdout",
     "output_type": "stream",
     "text": [
      "1300\n"
     ]
    }
   ],
   "source": [
    "class BankAccount:\n",
    "    def __init__(self, account_number, balance):\n",
    "        self.account_number = account_number\n",
    "        self.balance = balance\n",
    "\n",
    "    def deposit(self, amount):\n",
    "        self.balance += amount\n",
    "\n",
    "    def withdraw(self, amount):\n",
    "        if self.balance >= amount:\n",
    "            self.balance -= amount\n",
    "        else:\n",
    "            print(\"Insufficient balance\")\n",
    "\n",
    "    def get_balance(self):\n",
    "        return self.balance\n",
    "\n",
    "account = BankAccount(\"123456789\", 1000)\n",
    "account.deposit(500)\n",
    "account.withdraw(200)\n",
    "print(account.get_balance()) \n"
   ]
  },
  {
   "cell_type": "markdown",
   "id": "e9572af7-df41-4c76-ad77-e0d21481b5c4",
   "metadata": {},
   "source": [
    "## Q3\n",
    "The abc module in Python stands for \"Abstract Base Classes.\" It provides a mechanism for defining abstract base classes in Python. Abstract base classes are classes that cannot be instantiated and serve as blueprints for other classes to inherit from. They define a common interface and provide a way to enforce certain methods or properties that derived classes must implement."
   ]
  },
  {
   "cell_type": "code",
   "execution_count": 4,
   "id": "88b28fd3-76bb-4bcf-b277-dfdfac0e926c",
   "metadata": {},
   "outputs": [
    {
     "name": "stdout",
     "output_type": "stream",
     "text": [
      "20\n",
      "28.259999999999998\n"
     ]
    }
   ],
   "source": [
    "from abc import ABC, abstractmethod\n",
    "\n",
    "class Shape(ABC):\n",
    "    @abstractmethod\n",
    "    def area(self):\n",
    "        pass\n",
    "\n",
    "class Rectangle(Shape):\n",
    "    def __init__(self, length, width):\n",
    "        self.length = length\n",
    "        self.width = width\n",
    "\n",
    "    def area(self):\n",
    "        return self.length * self.width\n",
    "\n",
    "class Circle(Shape):\n",
    "    def __init__(self, radius):\n",
    "        self.radius = radius\n",
    "\n",
    "    def area(self):\n",
    "        return 3.14 * self.radius * self.radius\n",
    "\n",
    "rectangle = Rectangle(4, 5)\n",
    "circle = Circle(3)\n",
    "\n",
    "print(rectangle.area())  \n",
    "print(circle.area())    \n"
   ]
  },
  {
   "cell_type": "markdown",
   "id": "adddab74-6952-4d5b-80ce-286d31eea169",
   "metadata": {},
   "source": [
    "## Q4\n",
    "Data abstraction in object-oriented programming refers to the concept of hiding the internal implementation details of data and providing a simplified and generalized view of the data. It allows users to interact with the data through well-defined interfaces without being aware of the underlying implementation.\n",
    "\n",
    "In Python, we can achieve data abstraction using classes, specifically by defining class attributes and providing methods to manipulate and access those attributes. Here are some techniques to achieve data abstraction"
   ]
  },
  {
   "cell_type": "markdown",
   "id": "029936db-1ce2-4ea4-9214-3e508a8bcec9",
   "metadata": {},
   "source": [
    "## Q5\n",
    " No, we cannot create an instance of an abstract class in Python. Abstract classes are classes that are meant to be inherited from and serve as blueprints for other classes. They are designed to provide a common interface and define abstract methods that derived classes must implement."
   ]
  },
  {
   "cell_type": "code",
   "execution_count": 5,
   "id": "29a92a8d-996c-4118-9c82-ea4fc2fef3d6",
   "metadata": {},
   "outputs": [
    {
     "ename": "TypeError",
     "evalue": "Can't instantiate abstract class AbstractClass with abstract method abstract_method",
     "output_type": "error",
     "traceback": [
      "\u001b[1;31m---------------------------------------------------------------------------\u001b[0m",
      "\u001b[1;31mTypeError\u001b[0m                                 Traceback (most recent call last)",
      "Cell \u001b[1;32mIn[5], line 9\u001b[0m\n\u001b[0;32m      6\u001b[0m         \u001b[38;5;28;01mpass\u001b[39;00m\n\u001b[0;32m      8\u001b[0m \u001b[38;5;66;03m# Attempt to create an instance of an abstract class\u001b[39;00m\n\u001b[1;32m----> 9\u001b[0m obj \u001b[38;5;241m=\u001b[39m AbstractClass()\n",
      "\u001b[1;31mTypeError\u001b[0m: Can't instantiate abstract class AbstractClass with abstract method abstract_method"
     ]
    }
   ],
   "source": [
    "from abc import ABC, abstractmethod\n",
    "\n",
    "class AbstractClass(ABC):\n",
    "    @abstractmethod\n",
    "    def abstract_method(self):\n",
    "        pass\n",
    "\n",
    "# Attempt to create an instance of an abstract class\n",
    "obj = AbstractClass()  # Raises TypeError: Can't instantiate abstract class AbstractClass with abstract methods abstract_method\n"
   ]
  },
  {
   "cell_type": "code",
   "execution_count": null,
   "id": "71957c18-cb2b-4377-a611-9201355df255",
   "metadata": {},
   "outputs": [],
   "source": []
  }
 ],
 "metadata": {
  "kernelspec": {
   "display_name": "Python 3 (ipykernel)",
   "language": "python",
   "name": "python3"
  },
  "language_info": {
   "codemirror_mode": {
    "name": "ipython",
    "version": 3
   },
   "file_extension": ".py",
   "mimetype": "text/x-python",
   "name": "python",
   "nbconvert_exporter": "python",
   "pygments_lexer": "ipython3",
   "version": "3.11.7"
  }
 },
 "nbformat": 4,
 "nbformat_minor": 5
}
